{
 "cells": [
  {
   "cell_type": "code",
   "execution_count": 1,
   "metadata": {},
   "outputs": [],
   "source": [
    "import pandas as pd\n",
    "import pyodbc\n",
    "import sqlite3\n",
    "from IPython.display import Image, display"
   ]
  },
  {
   "cell_type": "code",
   "execution_count": 2,
   "metadata": {},
   "outputs": [],
   "source": [
    "conn = sqlite3.connect(\"ewaste_data.db\")\n",
    "cursor = conn.cursor()"
   ]
  },
  {
   "cell_type": "markdown",
   "metadata": {},
   "source": [
    "## Drop Tables"
   ]
  },
  {
   "cell_type": "code",
   "execution_count": 3,
   "metadata": {},
   "outputs": [],
   "source": [
    "exec_string = \"\"\"\n",
    "DROP TABLE IF EXISTS Users;\n",
    "\n",
    "DROP TABLE IF EXISTS Locations;\n",
    "\n",
    "DROP TABLE IF EXISTS DisposalTypes;\n",
    "\n",
    "DROP TABLE IF EXISTS ItemTypes;\n",
    "\n",
    "DROP TABLE IF EXISTS Items;\n",
    "\"\"\""
   ]
  },
  {
   "cell_type": "code",
   "execution_count": 4,
   "metadata": {},
   "outputs": [],
   "source": [
    "for cmd in exec_string.split(';'):\n",
    "    cursor.execute(cmd)"
   ]
  },
  {
   "cell_type": "markdown",
   "metadata": {},
   "source": [
    "## Create Tables"
   ]
  },
  {
   "cell_type": "code",
   "execution_count": 5,
   "metadata": {},
   "outputs": [],
   "source": [
    "exec_string = \"\"\"\n",
    "CREATE TABLE Users (\n",
    "\tID integer PRIMARY KEY AUTOINCREMENT,\n",
    "\tFirstName string,\n",
    "\tLastName string,\n",
    "\tLocationKey integer,\n",
    "    Login string,\n",
    "    PIN integer\n",
    ");\n",
    "\n",
    "CREATE TABLE Locations (\n",
    "\tID integer PRIMARY KEY AUTOINCREMENT,\n",
    "\tCity string,\n",
    "\tState string,\n",
    "\tZip integer\n",
    ");\n",
    "\n",
    "CREATE TABLE DisposalTypes (\n",
    "\tID integer PRIMARY KEY AUTOINCREMENT,\n",
    "\tType string\n",
    ");\n",
    "\n",
    "CREATE TABLE ItemTypes (\n",
    "\tID integer PRIMARY KEY AUTOINCREMENT,\n",
    "\tCategory string,\n",
    "\tDisposalType integer\n",
    ");\n",
    "\n",
    "CREATE TABLE Items (\n",
    "\tID integer PRIMARY KEY AUTOINCREMENT,\n",
    "\tDateAdded date,\n",
    "\tDateDisposed date,\n",
    "\tUser integer,\n",
    "\tType integer,\n",
    "\tNotes string,\n",
    "    Image string\n",
    ");\n",
    "\n",
    "\"\"\""
   ]
  },
  {
   "cell_type": "code",
   "execution_count": 6,
   "metadata": {},
   "outputs": [],
   "source": [
    "for cmd in exec_string.split(';'):\n",
    "    cursor.execute(cmd)"
   ]
  },
  {
   "cell_type": "markdown",
   "metadata": {},
   "source": [
    "## Load Init Data"
   ]
  },
  {
   "cell_type": "markdown",
   "metadata": {},
   "source": [
    "#### Locations"
   ]
  },
  {
   "cell_type": "code",
   "execution_count": 7,
   "metadata": {},
   "outputs": [],
   "source": [
    "exec_string = \"\"\"\n",
    "INSERT INTO Locations (City, State, Zip) VALUES (\"Berkeley\", \"California\", 94701);\n",
    "INSERT INTO Locations (City, State, Zip) VALUES (\"Berkeley\", \"California\", 94702);\n",
    "INSERT INTO Locations (City, State, Zip) VALUES (\"Berkeley\", \"California\", 94703);\n",
    "INSERT INTO Locations (City, State, Zip) VALUES (\"Berkeley\", \"California\", 94704);\n",
    "INSERT INTO Locations (City, State, Zip) VALUES (\"Berkeley\", \"California\", 94705);\n",
    "INSERT INTO Locations (City, State, Zip) VALUES (\"Berkeley\", \"California\", 94706);\n",
    "INSERT INTO Locations (City, State, Zip) VALUES (\"Berkeley\", \"California\", 94707);\n",
    "INSERT INTO Locations (City, State, Zip) VALUES (\"Berkeley\", \"California\", 94708);\n",
    "INSERT INTO Locations (City, State, Zip) VALUES (\"Berkeley\", \"California\", 94709);\n",
    "INSERT INTO Locations (City, State, Zip) VALUES (\"Berkeley\", \"California\", 94710);\n",
    "INSERT INTO Locations (City, State, Zip) VALUES (\"Berkeley\", \"California\", 94712);\n",
    "INSERT INTO Locations (City, State, Zip) VALUES (\"Berkeley\", \"California\", 94720);\n",
    "INSERT INTO Locations (City, State, Zip) VALUES (\"Oakland\", \"California\", 94577);\n",
    "\"\"\""
   ]
  },
  {
   "cell_type": "code",
   "execution_count": 8,
   "metadata": {},
   "outputs": [],
   "source": [
    "for cmd in exec_string.split(';'):\n",
    "    cursor.execute(cmd)\n",
    "    conn.commit()"
   ]
  },
  {
   "cell_type": "code",
   "execution_count": 9,
   "metadata": {},
   "outputs": [
    {
     "data": {
      "text/plain": [
       "[(1, 'Berkeley', 'California', 94701),\n",
       " (2, 'Berkeley', 'California', 94702),\n",
       " (3, 'Berkeley', 'California', 94703),\n",
       " (4, 'Berkeley', 'California', 94704),\n",
       " (5, 'Berkeley', 'California', 94705),\n",
       " (6, 'Berkeley', 'California', 94706),\n",
       " (7, 'Berkeley', 'California', 94707),\n",
       " (8, 'Berkeley', 'California', 94708),\n",
       " (9, 'Berkeley', 'California', 94709),\n",
       " (10, 'Berkeley', 'California', 94710),\n",
       " (11, 'Berkeley', 'California', 94712),\n",
       " (12, 'Berkeley', 'California', 94720),\n",
       " (13, 'Oakland', 'California', 94577)]"
      ]
     },
     "execution_count": 9,
     "metadata": {},
     "output_type": "execute_result"
    }
   ],
   "source": [
    "cursor.execute(\"SELECT * FROM Locations\").fetchall()"
   ]
  },
  {
   "cell_type": "markdown",
   "metadata": {},
   "source": [
    "#### Users"
   ]
  },
  {
   "cell_type": "code",
   "execution_count": 10,
   "metadata": {},
   "outputs": [],
   "source": [
    "exec_string = \"\"\"\n",
    "INSERT INTO Users (FirstName, LastName, LocationKey, Login, PIN) VALUES (\"Nic\", \"Vogler\", 2, \"nv\", 3213);\n",
    "INSERT INTO Users (FirstName, LastName, LocationKey, Login, PIN) VALUES (\"Matt\", \"Vogler\", 3, \"mv\", 3213);\n",
    "INSERT INTO Users (FirstName, LastName, LocationKey, Login, PIN) VALUES (\"Michelle\", \"Cutler\", 5, \"mc\", 3213);\n",
    "INSERT INTO Users (FirstName, LastName, LocationKey, Login, PIN) VALUES (\"Kalvin\", \"Kao\", 7, \"kk\", 3213);\n",
    "INSERT INTO Users (FirstName, LastName, LocationKey, Login, PIN) VALUES (\"Kevin\", \"Vogler\", 2, \"kv\", 3213);\n",
    "INSERT INTO Users (FirstName, LastName, LocationKey, Login, PIN) VALUES (\"Stanislav\", \"Kelman\", 9, \"sk\", 3213);\n",
    "INSERT INTO Users (FirstName, LastName, LocationKey, Login, PIN) VALUES (\"Ehsan\", \"Yousefzadeh\", 7, \"ey\", 3213);\n",
    "\"\"\""
   ]
  },
  {
   "cell_type": "code",
   "execution_count": 11,
   "metadata": {},
   "outputs": [],
   "source": [
    "for cmd in exec_string.split(';'):\n",
    "    cursor.execute(cmd)\n",
    "    conn.commit()"
   ]
  },
  {
   "cell_type": "code",
   "execution_count": 12,
   "metadata": {},
   "outputs": [
    {
     "data": {
      "text/plain": [
       "[(1, 'Nic', 'Vogler', 2, 'nv', 3213),\n",
       " (2, 'Matt', 'Vogler', 3, 'mv', 3213),\n",
       " (3, 'Michelle', 'Cutler', 5, 'mc', 3213),\n",
       " (4, 'Kalvin', 'Kao', 7, 'kk', 3213),\n",
       " (5, 'Kevin', 'Vogler', 2, 'kv', 3213),\n",
       " (6, 'Stanislav', 'Kelman', 9, 'sk', 3213),\n",
       " (7, 'Ehsan', 'Yousefzadeh', 7, 'ey', 3213)]"
      ]
     },
     "execution_count": 12,
     "metadata": {},
     "output_type": "execute_result"
    }
   ],
   "source": [
    "cursor.execute(\"SELECT * FROM Users\").fetchall()"
   ]
  },
  {
   "cell_type": "markdown",
   "metadata": {},
   "source": [
    "#### DisposalTypes"
   ]
  },
  {
   "cell_type": "code",
   "execution_count": 13,
   "metadata": {},
   "outputs": [],
   "source": [
    "exec_string = \"\"\"\n",
    "INSERT INTO DisposalTypes (Type) VALUES (\"Drop-off Container\");\n",
    "INSERT INTO DisposalTypes (Type) VALUES (\"City Pickup\");\n",
    "\"\"\""
   ]
  },
  {
   "cell_type": "code",
   "execution_count": 14,
   "metadata": {},
   "outputs": [],
   "source": [
    "for cmd in exec_string.split(';'):\n",
    "    cursor.execute(cmd)\n",
    "    conn.commit()"
   ]
  },
  {
   "cell_type": "code",
   "execution_count": 15,
   "metadata": {},
   "outputs": [
    {
     "data": {
      "text/plain": [
       "[(1, 'Drop-off Container'), (2, 'City Pickup')]"
      ]
     },
     "execution_count": 15,
     "metadata": {},
     "output_type": "execute_result"
    }
   ],
   "source": [
    "cursor.execute(\"SELECT * FROM DisposalTypes\").fetchall()"
   ]
  },
  {
   "cell_type": "markdown",
   "metadata": {},
   "source": [
    "#### ItemTypes"
   ]
  },
  {
   "cell_type": "code",
   "execution_count": 16,
   "metadata": {},
   "outputs": [],
   "source": [
    "exec_string = \"\"\"\n",
    "INSERT INTO ItemTypes (Category, DisposalType) VALUES (\"Large Appliance\", 2);\n",
    "INSERT INTO ItemTypes (Category, DisposalType) VALUES (\"Small Appliance\", 1);\n",
    "INSERT INTO ItemTypes (Category, DisposalType) VALUES (\"Television\", 2);\n",
    "INSERT INTO ItemTypes (Category, DisposalType) VALUES (\"Laptop\", 2);\n",
    "INSERT INTO ItemTypes (Category, DisposalType) VALUES (\"Tablet\", 1);\n",
    "INSERT INTO ItemTypes (Category, DisposalType) VALUES (\"Cell Phone\", 1);\n",
    "INSERT INTO ItemTypes (Category, DisposalType) VALUES (\"Desktop Computer\", 1);\n",
    "INSERT INTO ItemTypes (Category, DisposalType) VALUES (\"Computer Monitor\", 2);\n",
    "INSERT INTO ItemTypes (Category, DisposalType) VALUES (\"Computer Peripherals\", 1);\n",
    "INSERT INTO ItemTypes (Category, DisposalType) VALUES (\"Remote\", 1);\n",
    "INSERT INTO ItemTypes (Category, DisposalType) VALUES (\"Batteries\", 1);\n",
    "\"\"\""
   ]
  },
  {
   "cell_type": "code",
   "execution_count": 17,
   "metadata": {},
   "outputs": [],
   "source": [
    "for cmd in exec_string.split(';'):\n",
    "    cursor.execute(cmd)\n",
    "    conn.commit()"
   ]
  },
  {
   "cell_type": "code",
   "execution_count": 18,
   "metadata": {},
   "outputs": [
    {
     "data": {
      "text/plain": [
       "[(1, 'Large Appliance', 2),\n",
       " (2, 'Small Appliance', 1),\n",
       " (3, 'Television', 2),\n",
       " (4, 'Laptop', 2),\n",
       " (5, 'Tablet', 1),\n",
       " (6, 'Cell Phone', 1),\n",
       " (7, 'Desktop Computer', 1),\n",
       " (8, 'Computer Monitor', 2),\n",
       " (9, 'Computer Peripherals', 1),\n",
       " (10, 'Remote', 1),\n",
       " (11, 'Batteries', 1)]"
      ]
     },
     "execution_count": 18,
     "metadata": {},
     "output_type": "execute_result"
    }
   ],
   "source": [
    "cursor.execute(\"SELECT * FROM ItemTypes\").fetchall()"
   ]
  },
  {
   "cell_type": "markdown",
   "metadata": {},
   "source": [
    "#### Items"
   ]
  },
  {
   "cell_type": "code",
   "execution_count": 19,
   "metadata": {},
   "outputs": [],
   "source": [
    "exec_string = \"\"\"\n",
    "INSERT INTO Items (DateAdded, DateDisposed, User, Type, Notes, Image) VALUES ('2019-11-01', '2019-11-02', 1, 11, \"Old Batteries\", \"/static/images/family.jpg\");\n",
    "INSERT INTO Items (DateAdded, DateDisposed, User, Type, Notes, Image) VALUES ('2019-11-02', '2019-11-02', 1, 11, \"Old Batteries\", \"/static/images/family.jpg\");\n",
    "INSERT INTO Items (DateAdded, DateDisposed, User, Type, Notes, Image) VALUES ('2019-10-01', '2019-11-02', 1, 4, \"Broken Laptop\", \"/static/images/family.jpg\");\n",
    "INSERT INTO Items (DateAdded, DateDisposed, User, Type, Notes, Image) VALUES ('2019-09-24', '2019-09-28', 2, 11, \"btrs\", \"/static/images/family.jpg\");\n",
    "INSERT INTO Items (DateAdded, DateDisposed, User, Type, Notes, Image) VALUES ('2019-09-24', '2019-09-28', 2, 9, \"light bulbs\", \"/static/images/family.jpg\");\n",
    "INSERT INTO Items (DateAdded, DateDisposed, User, Type, Notes, Image) VALUES ('2019-09-27', '2019-09-28', 3, 3, \"broken tv\", \"/static/images/family.jpg\");\n",
    "INSERT INTO Items (DateAdded, DateDisposed, User, Type, Notes, Image) VALUES ('2019-09-28', '2019-09-28', 4, 7, \"desktop pc\", \"/static/images/family.jpg\");\n",
    "INSERT INTO Items (DateAdded, DateDisposed, User, Type, Notes, Image) VALUES ('2019-09-25', '2019-09-28', 7, 9, \"cables\", \"/static/images/family.jpg\");\n",
    "\n",
    "INSERT INTO Items (DateAdded, User, Type, Notes, Image) VALUES ('2019-09-29', 1, 10, \"remote\", \"/static/images/family.jpg\");\n",
    "INSERT INTO Items (DateAdded, User, Type, Notes, Image) VALUES ('2019-09-30', 1, 6, \"broke phone\", \"/static/images/family.jpg\");\n",
    "INSERT INTO Items (DateAdded, User, Type, Notes, Image) VALUES ('2019-09-25', 1, 9, \"cd\", \"/static/images/family.jpg\");\n",
    "\n",
    "INSERT INTO Items (DateAdded, User, Type, Image) VALUES ('2019-11-01', 4, 1, \"/static/images/family.jpg\");\n",
    "INSERT INTO Items (DateAdded, User, Type, Image) VALUES ('2019-11-01', 4, 1, \"/static/images/family.jpg\");\n",
    "INSERT INTO Items (DateAdded, User, Type, Image) VALUES ('2019-11-01', 4, 1, \"/static/images/family.jpg\");\n",
    "\"\"\""
   ]
  },
  {
   "cell_type": "code",
   "execution_count": 20,
   "metadata": {},
   "outputs": [],
   "source": [
    "for cmd in exec_string.split(';'):\n",
    "    cursor.execute(cmd)\n",
    "    conn.commit()"
   ]
  },
  {
   "cell_type": "code",
   "execution_count": 21,
   "metadata": {},
   "outputs": [
    {
     "data": {
      "text/plain": [
       "[(1,\n",
       "  '2019-11-01',\n",
       "  '2019-11-02',\n",
       "  1,\n",
       "  11,\n",
       "  'Old Batteries',\n",
       "  '/static/images/family.jpg'),\n",
       " (2,\n",
       "  '2019-11-02',\n",
       "  '2019-11-02',\n",
       "  1,\n",
       "  11,\n",
       "  'Old Batteries',\n",
       "  '/static/images/family.jpg'),\n",
       " (3,\n",
       "  '2019-10-01',\n",
       "  '2019-11-02',\n",
       "  1,\n",
       "  4,\n",
       "  'Broken Laptop',\n",
       "  '/static/images/family.jpg'),\n",
       " (4, '2019-09-24', '2019-09-28', 2, 11, 'btrs', '/static/images/family.jpg'),\n",
       " (5,\n",
       "  '2019-09-24',\n",
       "  '2019-09-28',\n",
       "  2,\n",
       "  9,\n",
       "  'light bulbs',\n",
       "  '/static/images/family.jpg'),\n",
       " (6,\n",
       "  '2019-09-27',\n",
       "  '2019-09-28',\n",
       "  3,\n",
       "  3,\n",
       "  'broken tv',\n",
       "  '/static/images/family.jpg'),\n",
       " (7,\n",
       "  '2019-09-28',\n",
       "  '2019-09-28',\n",
       "  4,\n",
       "  7,\n",
       "  'desktop pc',\n",
       "  '/static/images/family.jpg'),\n",
       " (8, '2019-09-25', '2019-09-28', 7, 9, 'cables', '/static/images/family.jpg'),\n",
       " (9, '2019-09-29', None, 1, 10, 'remote', '/static/images/family.jpg'),\n",
       " (10, '2019-09-30', None, 1, 6, 'broke phone', '/static/images/family.jpg'),\n",
       " (11, '2019-09-25', None, 1, 9, 'cd', '/static/images/family.jpg'),\n",
       " (12, '2019-11-01', None, 4, 1, None, '/static/images/family.jpg'),\n",
       " (13, '2019-11-01', None, 4, 1, None, '/static/images/family.jpg'),\n",
       " (14, '2019-11-01', None, 4, 1, None, '/static/images/family.jpg')]"
      ]
     },
     "execution_count": 21,
     "metadata": {},
     "output_type": "execute_result"
    }
   ],
   "source": [
    "cursor.execute(\"SELECT * FROM Items\").fetchall()"
   ]
  }
 ],
 "metadata": {
  "kernelspec": {
   "display_name": "Python (base for W210)",
   "language": "python",
   "name": "base"
  },
  "language_info": {
   "codemirror_mode": {
    "name": "ipython",
    "version": 3
   },
   "file_extension": ".py",
   "mimetype": "text/x-python",
   "name": "python",
   "nbconvert_exporter": "python",
   "pygments_lexer": "ipython3",
   "version": "3.7.0"
  }
 },
 "nbformat": 4,
 "nbformat_minor": 2
}
